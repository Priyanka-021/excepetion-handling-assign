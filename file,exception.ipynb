{
  "cells": [
    {
      "cell_type": "markdown",
      "metadata": {
        "id": "rOxcXMAK2lD9"
      },
      "source": [
        "\n",
        "\n",
        "# **Files, exceptional handling, logging and memory management Questions**\n",
        "\n"
      ]
    },
    {
      "cell_type": "markdown",
      "metadata": {
        "id": "p125yFKL3IG_"
      },
      "source": [
        "**1.What is the difference between interpreted and compiled languages?**\n",
        "      \n",
        "  Interpreted language means its directly executed the code without seperate compilation and exeution is done line by line while in compiled language  first converted the code into machine code/byte code then executed.\n",
        "\n",
        "**2. What is exception handling in Python?**\n",
        "\n",
        "  In python an exception is an event that occurs during programme execution that disrupts the regular flow of code. for the flow of code in python there use some error catching code to handel these exception.\n",
        "\n",
        "**3. What is the purpose of the finally block in exception handling?**\n",
        "\n",
        "  'finally block' always execute just like other lines in code it execute then also when there is any exception block not present.also use to release resources like files, network connections, or database connections and to perform cleanup tasks that should always happen after a try block.\n",
        "\n",
        "   \n",
        "**4. What is logging in Python?**\n",
        "\n",
        "   logging is a cruicial aspect pf coading it allows to keep tracking the code.\n",
        "  It facilitate code monitoring, toubleshooting and debugging.It offers many severity levels like waring, info , critical, error etc.\n",
        "\n",
        "**5. What is the significance of the __del__ method in Python?**\n",
        "\n",
        "   The __del__ method in Python is a special method known as a destructor. It's called when an object is about to be destroyed — typically when its reference count reaches zero.\n",
        "\n",
        "**6. What is the difference between import and from ... import in Python?**\n",
        "   \n",
        "   import in python use to import whole module while from ... import is used to import sepcific attribute directly.\n",
        "  \n",
        "**7. How can you handle multiple exceptions in Python?**\n",
        "\n",
        "  Multiple exceptions can be handel in python either in one except block as a tuple of values to define several exceptions or using multiple except block.\n",
        "\n",
        "**8. What is the purpose of the with statement when handling files in Python?**\n",
        "\n",
        "   with statement ensures that the file is closed properly after the block of code executed, it use to free up system and avoid issues like data corruption or file lock.\n",
        "\n",
        "**9. What is the difference between multithreading and multiprocessing?**\n",
        "\n",
        "   Multithreding run concurrently due to GIL, it uses same memory space, and happens in one processor while in multiprocessing it happens in multiple processors and each processors has its one memory space and also runs parallely.\n",
        "\n",
        "**10. What are the advantages of using logging in a program?**\n",
        "\n",
        "   Logging in python provides better control over output,save logs to a file for later analysis — super useful for debugging or audits.Logging automatically includes useful info like timestamps, file names, line numbers, etc.\n",
        "\n",
        "**11. What is memory management in Python?**\n",
        "\n",
        "   Memory management in Python is the process of efficiently allocating and freeing memory during a program's execution. Python handles memory automatically.\n",
        "\n",
        "**12. What are the basic steps involved in exception handling in Python?**\n",
        "\n",
        "  Basic setps are\n",
        "  try block-put the code that might cause an error inside a try block.\n",
        "  Except block-If an error happens, Python jumps to the except block where you handle the error.\n",
        "  else and finally block is optional use as per condition and clean up the code respectively.\n",
        "\n",
        "**13. Why is memory management important in Python?**\n",
        "\n",
        "  Mermory management important in python to afficient use of resources, avoid memory leaks, Faster execution, garbage collection i.e code run fast without crashing.\n",
        "\n",
        "**14. What is the role of try and except in exception handling?**\n",
        "  \n",
        "  Try block is use to place code inside that might cause an error.Python runs the code normally unless it hits an exception.\n",
        "  Except block If an error does occur inside the try, Python jumps to the except block it handle the error instead of letting the program crash.\n",
        "\n",
        "**15. How does Python's garbage collection system work?**\n",
        "   \n",
        "   Every object in Python has a reference count. When you create a new reference to an object, the count goes up. When a reference is deleted, the count goes down. When the count hits zero, Python knows it’s safe to delete the object from memory\n",
        "\n",
        "**16.What is the purpose of the else block in exception handling?**\n",
        "\n",
        "The else block in exception handling is used to run code that should only execute if no exception was raised in the try block.\n",
        "\n",
        "**17.What are the common logging levels in Python?**\n",
        "  \n",
        "  Common logging levels in python are debug, info,warning,error and critical from lowest to highest severity.\n",
        "\n",
        "**18.What is the difference between os.fork() and multiprocessing in Python?**\n",
        "  \n",
        "  os.fork() is a low-level system call available only on Unix/Linux (not available on Windows). It creates a copy of the current process (called the \"child\" process). Both parent and child continue running separately after the fork.\n",
        "  While multiprocessing in python a high-level module in Python for working with multiple processes. Works on all platforms (Windows, Linux, macOS). Allows easy communication between processes using queues, pipes, shared memory, etc.\n",
        "   \n",
        "**19. What is the importance of closing a file in Python?**\n",
        "    \n",
        "   Closing a file helps free up resources.\n",
        "   It ensures that any data written is saved properly.\n",
        "   It prevents file corruption and resource leaks.\n",
        "\n",
        "**20.What is the difference between file.read() and file.readline() in Python?**\n",
        "\n",
        "   The file.read() method reads the entire contents of the file at once and returns it as a string. It can also take an optional argument specifying how many bytes (or characters) you want to read from the file.\n",
        "   The file.readline() method reads one line from the file at a time and returns it as a string. If you call readline() multiple times, it reads the next line each time until the end of the file is reached.\n",
        "\n",
        "**21.What is the logging module in Python used for?**\n",
        "    \n",
        "  The logging module in Python is used to log messages, track events, and monitor the behavior of your program. It's a crucial tool for understanding how your program is running and diagnosing issues, especially in production environments.\n",
        "\n",
        "**22.What is the os module in Python used for in file handling?**\n",
        "\n",
        "   The os module in Python is a powerful utility that provides a way to interact with the operating system. When it comes to file handling, the os module offers several functions for managing files and directories, such as creating, removing, renaming files, and working with file paths.\n",
        "   The os module allows you to perform file and directory operations that interact with the underlying operating system. It's especially useful for tasks that go beyond just opening and reading files, like checking file existence, changing file permissions, or traversing directories.\n",
        "\n",
        "**23.What are the challenges associated with memory management in Python?**\n",
        "   \n",
        "   There are many challenges associated with memory managment as automatic garbage collection, memory Leaks, circular references, Large Object Creation ,Dynamic Typing Overhead, Object Caching, Global Interpreter Lock (GIL).\n",
        "\n",
        "**24.How do you raise an exception manually in Python?**\n",
        "\n",
        "   In Python, you can raise an exception manually using the raise keyword. This is useful when you want to signal an error condition in your program or enforce rules.\n",
        "\n",
        "**25.Why is it important to use multithreading in certain applications?**\n",
        "\n",
        "   Multithreading is important in certain applications because it allows a program to perform multiple tasks at the same time (concurrently), leading to better performance, responsiveness, and efficient resource usage—especially when dealing with I/O-bound tasks."
      ]
    },
    {
      "cell_type": "markdown",
      "metadata": {
        "id": "7q0VYVH_5LP-"
      },
      "source": [
        "#**Practical Questions**"
      ]
    },
    {
      "cell_type": "markdown",
      "metadata": {
        "id": "zIlv3O-l5SCU"
      },
      "source": [
        "**1.How can you open a file for writing in Python and write a string to it?**\n",
        "\n",
        "\n",
        "\n"
      ]
    },
    {
      "cell_type": "code",
      "execution_count": null,
      "metadata": {
        "id": "Nl59q8psI1kF"
      },
      "outputs": [],
      "source": [
        "file= open(\"file.txt\",\"w\")\n",
        "file.write(\"hello world\")\n",
        "file.close()"
      ]
    },
    {
      "cell_type": "markdown",
      "metadata": {
        "id": "_asDSU8N5Uzp"
      },
      "source": [
        "**2.Write a Python program to read the contents of a file and print each line?**\n"
      ]
    },
    {
      "cell_type": "code",
      "execution_count": null,
      "metadata": {
        "colab": {
          "base_uri": "https://localhost:8080/"
        },
        "id": "yZPbOvGQJUkk",
        "outputId": "a7572ac5-f5c2-4913-d679-b2329d67f28e"
      },
      "outputs": [
        {
          "name": "stdout",
          "output_type": "stream",
          "text": [
            "hello world\n"
          ]
        }
      ],
      "source": [
        "file= open(\"file.txt\",\"r\")\n",
        "print(file.read())\n",
        "file.close()"
      ]
    },
    {
      "cell_type": "markdown",
      "metadata": {
        "id": "B8o_ukkS5YMN"
      },
      "source": [
        "**3.How would you handle a case where the file doesn't exist while trying to open it for reading?**\n"
      ]
    },
    {
      "cell_type": "code",
      "execution_count": null,
      "metadata": {
        "colab": {
          "base_uri": "https://localhost:8080/"
        },
        "id": "xVGMOZu_Jd2T",
        "outputId": "7bb1628f-e205-4aac-fa1c-476b5f17155d"
      },
      "outputs": [
        {
          "name": "stdout",
          "output_type": "stream",
          "text": [
            "file not found\n"
          ]
        }
      ],
      "source": [
        "try:\n",
        "  file= open(\"example.txt\",\"r\")\n",
        "  print(file.read())\n",
        "  file.close()\n",
        "except FileNotFoundError:\n",
        "  print(\"file not found\")"
      ]
    },
    {
      "cell_type": "markdown",
      "metadata": {
        "id": "HcGWOKmC5bU4"
      },
      "source": [
        "**4.Write a Python script that reads from one file and writes its content to another file?**"
      ]
    },
    {
      "cell_type": "code",
      "execution_count": null,
      "metadata": {
        "colab": {
          "base_uri": "https://localhost:8080/"
        },
        "id": "-rPLhOfQKgTk",
        "outputId": "80e010e8-80cb-4f3a-eefe-ea489090849d"
      },
      "outputs": [
        {
          "name": "stdout",
          "output_type": "stream",
          "text": [
            "hello world\n"
          ]
        }
      ],
      "source": [
        "file= open(\"file.txt\",\"r\")\n",
        "file2= open(\"file2.txt\",\"w\")\n",
        "file2.write(file.read())\n",
        "file.close()\n",
        "file2.close()\n",
        "file2= open(\"file2.txt\",\"r\")\n",
        "print(file2.read())\n",
        "file2.close()"
      ]
    },
    {
      "cell_type": "markdown",
      "metadata": {
        "id": "2PXd9kUl5dWV"
      },
      "source": [
        "**5.How would you catch and handle division by zero error in Python?**\n"
      ]
    },
    {
      "cell_type": "code",
      "execution_count": null,
      "metadata": {
        "colab": {
          "base_uri": "https://localhost:8080/"
        },
        "id": "ne0AIXK9IzIn",
        "outputId": "c8cd6145-ac91-489c-9cbf-12ff41d11779"
      },
      "outputs": [
        {
          "name": "stdout",
          "output_type": "stream",
          "text": [
            "division by zero\n"
          ]
        }
      ],
      "source": [
        "try:\n",
        "  10/0\n",
        "except Exception as e:\n",
        "  print(e)"
      ]
    },
    {
      "cell_type": "markdown",
      "metadata": {
        "id": "jfXqW5TD5jc0"
      },
      "source": [
        "**6.Write a Python program that logs an error message to a log file when a division by zero exception occurs?**\n"
      ]
    },
    {
      "cell_type": "code",
      "execution_count": null,
      "metadata": {
        "colab": {
          "base_uri": "https://localhost:8080/"
        },
        "id": "xN4NYOiBUwYI",
        "outputId": "c5a44249-8dfe-4ead-d27e-0a60af5da274"
      },
      "outputs": [
        {
          "name": "stderr",
          "output_type": "stream",
          "text": [
            "ERROR:root:division by zero\n"
          ]
        }
      ],
      "source": [
        "import logging\n",
        "logging.basicConfig(filename=\"file.log\",level=logging.ERROR)\n",
        "try:\n",
        "  10/0\n",
        "except Exception as e:\n",
        "  logging.error(e)"
      ]
    },
    {
      "cell_type": "markdown",
      "metadata": {
        "id": "qtcrVoB75lvL"
      },
      "source": [
        "**7.How do you log information at different levels (INFO, ERROR, WARNING) in Python using the logging module?**\n"
      ]
    },
    {
      "cell_type": "code",
      "execution_count": null,
      "metadata": {
        "colab": {
          "base_uri": "https://localhost:8080/"
        },
        "id": "D5zrgSQtVS4f",
        "outputId": "48621ab5-abc0-40df-cc4c-77a8b56730c1"
      },
      "outputs": [
        {
          "name": "stderr",
          "output_type": "stream",
          "text": [
            "ERROR:root:division by zero\n",
            "WARNING:root:this is warning\n"
          ]
        }
      ],
      "source": [
        "import logging\n",
        "logging.basicConfig(filename=\"file.log\",level=logging.ERROR)\n",
        "try:\n",
        "  10/0\n",
        "except Exception as e:\n",
        "  logging.error(e)\n",
        "logging.info(\"this is info message\")\n",
        "logging.warning(\"this is warning\")"
      ]
    },
    {
      "cell_type": "markdown",
      "metadata": {
        "id": "T34n8wjX5ona"
      },
      "source": [
        "**8.Write a program to handle a file opening error using exception handling?**\n"
      ]
    },
    {
      "cell_type": "code",
      "execution_count": null,
      "metadata": {
        "colab": {
          "base_uri": "https://localhost:8080/"
        },
        "id": "zaIuB9ifXVyn",
        "outputId": "0b76ce34-653b-4146-c3cd-ae74b2f3ede2"
      },
      "outputs": [
        {
          "name": "stderr",
          "output_type": "stream",
          "text": [
            "ERROR:root:file not found\n"
          ]
        }
      ],
      "source": [
        "import logging\n",
        "logging.basicConfig(filename=\"file.log\",level=logging.ERROR)\n",
        "try:\n",
        "  file= open(\"py.txt\",\"r\")\n",
        "  print(file.read())\n",
        "  file.close()\n",
        "except FileNotFoundError:\n",
        "  logging.error(\"file not found\")"
      ]
    },
    {
      "cell_type": "markdown",
      "metadata": {
        "id": "H9r2IZDl6k_C"
      },
      "source": [
        "**9.How can you read a file line by line and store its content in a list in Python?**\n",
        "\n",
        "\n"
      ]
    },
    {
      "cell_type": "code",
      "execution_count": null,
      "metadata": {
        "colab": {
          "base_uri": "https://localhost:8080/"
        },
        "id": "-QH0ZwTppXP_",
        "outputId": "56248983-3ebd-4228-e7af-2a106cc7637e"
      },
      "outputs": [
        {
          "name": "stdout",
          "output_type": "stream",
          "text": [
            "['mango', 'apple', 'kiwi', 'banana']\n"
          ]
        }
      ],
      "source": [
        "fruits= [\"mango\", \"apple\", \"kiwi\", \"banana\"]\n",
        "\n",
        "with open(\"ak.txt\", \"w\") as file:\n",
        "    for fruit in fruits:\n",
        "        file.write(fruit + \"\\n\")\n",
        "\n",
        "with open(\"ak.txt\", \"r\") as file:\n",
        "    lines = [line.strip() for line in file]\n",
        "\n",
        "print(lines)\n"
      ]
    },
    {
      "cell_type": "markdown",
      "metadata": {
        "id": "Qn2Ncysi6xMB"
      },
      "source": [
        "**10.How can you append data to an existing file in Python?**"
      ]
    },
    {
      "cell_type": "code",
      "execution_count": null,
      "metadata": {
        "colab": {
          "base_uri": "https://localhost:8080/"
        },
        "id": "KMPwFHP2fH3C",
        "outputId": "025d7946-996a-4a2d-8f53-c3f2ed75ee5c"
      },
      "outputs": [
        {
          "name": "stdout",
          "output_type": "stream",
          "text": [
            "This is a test file. This is a running file.\n"
          ]
        }
      ],
      "source": [
        "file= open(\"pw.txt\",\"w\")\n",
        "file.write(\"This is a test file. \")\n",
        "file.close()\n",
        "file= open(\"pw.txt\",\"a\")\n",
        "file.write(\"This is a running file.\")\n",
        "file.close()\n",
        "file= open(\"pw.txt\",\"r\")\n",
        "print(file.read())\n",
        "file.close()"
      ]
    },
    {
      "cell_type": "markdown",
      "metadata": {
        "id": "aA1bp7Ld68Qw"
      },
      "source": [
        "**11.Write a Python program that uses a try-except block to handle an error when attempting to access a dictionary key that doesn't exist?**"
      ]
    },
    {
      "cell_type": "code",
      "execution_count": null,
      "metadata": {
        "colab": {
          "base_uri": "https://localhost:8080/"
        },
        "id": "YhEcxVJagJvI",
        "outputId": "1e436deb-0e89-427d-e99d-265961dbda09"
      },
      "outputs": [
        {
          "name": "stdout",
          "output_type": "stream",
          "text": [
            "key not found\n"
          ]
        }
      ],
      "source": [
        "try:\n",
        "  d= {\"student\": \"priya\", \"class\": 9}\n",
        "  d[\"age\"]\n",
        "  print(d)\n",
        "except KeyError:\n",
        "  print(\"key not found\")"
      ]
    },
    {
      "cell_type": "markdown",
      "metadata": {
        "id": "qQJ8XPtq7JD4"
      },
      "source": [
        "**12.Write a program that demonstrates using multiple except blocks to handle different types of exceptions?**"
      ]
    },
    {
      "cell_type": "code",
      "execution_count": null,
      "metadata": {
        "colab": {
          "base_uri": "https://localhost:8080/"
        },
        "id": "YHCs8ilUg3RW",
        "outputId": "43425056-372c-49fd-ad7f-b6f5bf62ab8b"
      },
      "outputs": [
        {
          "name": "stdout",
          "output_type": "stream",
          "text": [
            "This is the value unsupported operand type(s) for /: 'int' and 'str'\n"
          ]
        }
      ],
      "source": [
        "try:\n",
        "  23/\"some value\"\n",
        "except ZeroDivisionError as e:\n",
        "    print(\"The division is not possible\", e)\n",
        "except TypeError as e:\n",
        "    print(\"This is the value\",e)"
      ]
    },
    {
      "cell_type": "markdown",
      "metadata": {
        "id": "QiscxsJ77Yfd"
      },
      "source": [
        "**13.How would you check if a file exists before attempting to read it in Python?**"
      ]
    },
    {
      "cell_type": "code",
      "execution_count": null,
      "metadata": {
        "colab": {
          "base_uri": "https://localhost:8080/"
        },
        "id": "N3H03ZluiD39",
        "outputId": "6724a96c-be08-4cdb-9c99-ec2a85fa8e87"
      },
      "outputs": [
        {
          "name": "stdout",
          "output_type": "stream",
          "text": [
            "mango\n",
            "apple\n",
            "kiwi\n",
            "banana\n",
            "\n"
          ]
        }
      ],
      "source": [
        "import os\n",
        "\n",
        "if os.path.exists(\"ak.txt\"):\n",
        "    with open(\"ak.txt\", \"r\") as file:\n",
        "        content = file.read()\n",
        "        print(content)\n",
        "else:\n",
        "    print(\"File does not exist.\")\n"
      ]
    },
    {
      "cell_type": "markdown",
      "metadata": {
        "id": "rnfNp2kE7g9v"
      },
      "source": [
        "**14.Write a program that uses the logging module to log both informational and error messages\n",
        "?**"
      ]
    },
    {
      "cell_type": "code",
      "execution_count": null,
      "metadata": {
        "colab": {
          "base_uri": "https://localhost:8080/"
        },
        "id": "1PAnCCKdjyyb",
        "outputId": "19657f97-750e-47d5-fd27-3bc093f19242"
      },
      "outputs": [
        {
          "name": "stderr",
          "output_type": "stream",
          "text": [
            "WARNING:root:this is warning\n"
          ]
        }
      ],
      "source": [
        "import logging\n",
        "logging.basicConfig(filename=\"file.log\",level=logging.info)\n",
        "try:\n",
        "  5/7\n",
        "except Exception as e:\n",
        "  logging.error(e)\n",
        "logging.info(\"this is info message\")\n",
        "logging.warning(\"this is warning\")"
      ]
    },
    {
      "cell_type": "markdown",
      "metadata": {
        "id": "ryJt-mCy7krl"
      },
      "source": [
        "**15.Write a Python program that prints the content of a file and handles the case when the file is empty?**"
      ]
    },
    {
      "cell_type": "code",
      "execution_count": null,
      "metadata": {
        "colab": {
          "base_uri": "https://localhost:8080/"
        },
        "id": "RDlz53zMntDL",
        "outputId": "b4cb7782-6f74-41d6-b267-7dbcd12fa2ef"
      },
      "outputs": [
        {
          "name": "stdout",
          "output_type": "stream",
          "text": [
            "The file is empty.\n"
          ]
        }
      ],
      "source": [
        "file= open(\"example.txt\", 'w')\n",
        "def print_file_content(filename):\n",
        "    try:\n",
        "        with open(filename, \"r\") as file:\n",
        "            content = file.read()\n",
        "            if content.strip():  # Checks if content is not just whitespace\n",
        "                print(\"File content:\\n\")\n",
        "                print(content)\n",
        "            else:\n",
        "                print(\"The file is empty.\")\n",
        "    except FileNotFoundError:\n",
        "        print(f\"Error: The file '{filename}' does not exist.\")\n",
        "\n",
        "# Example usage:\n",
        "print_file_content(\"example.txt\")\n"
      ]
    },
    {
      "cell_type": "markdown",
      "metadata": {
        "id": "eJF27aIPsjQM"
      },
      "source": [
        "**16.Demonstrate how to use memory profiling to check the memory usage of a small program?**\n"
      ]
    },
    {
      "cell_type": "code",
      "execution_count": null,
      "metadata": {
        "colab": {
          "base_uri": "https://localhost:8080/"
        },
        "id": "mLsz54yZsUvq",
        "outputId": "906ab3b0-b233-4a23-dbf8-53ab8427cdbb"
      },
      "outputs": [
        {
          "name": "stdout",
          "output_type": "stream",
          "text": [
            "Collecting memory_profiler\n",
            "  Downloading memory_profiler-0.61.0-py3-none-any.whl.metadata (20 kB)\n",
            "Requirement already satisfied: psutil in /usr/local/lib/python3.11/dist-packages (from memory_profiler) (5.9.5)\n",
            "Downloading memory_profiler-0.61.0-py3-none-any.whl (31 kB)\n",
            "Installing collected packages: memory_profiler\n",
            "Successfully installed memory_profiler-0.61.0\n"
          ]
        },
        {
          "name": "stderr",
          "output_type": "stream",
          "text": [
            "\n",
            "PYDEV DEBUGGER WARNING:\n",
            "sys.settrace() should not be used when the debugger is being used.\n",
            "This may cause the debugger to stop working correctly.\n",
            "If this is needed, please check: \n",
            "http://pydev.blogspot.com/2007/06/why-cant-pydev-debugger-work-with.html\n",
            "to see how to restore the debug tracing back correctly.\n",
            "Call Location:\n",
            "  File \"/usr/local/lib/python3.11/dist-packages/memory_profiler.py\", line 847, in enable\n",
            "    sys.settrace(self.trace_memory_usage)\n",
            "\n"
          ]
        },
        {
          "name": "stdout",
          "output_type": "stream",
          "text": [
            "ERROR: Could not find file <ipython-input-28-ea85cb69eafd>\n",
            "NOTE: %mprun can only be used on functions defined in physical files, and not in the IPython environment.\n"
          ]
        },
        {
          "name": "stderr",
          "output_type": "stream",
          "text": [
            "\n",
            "PYDEV DEBUGGER WARNING:\n",
            "sys.settrace() should not be used when the debugger is being used.\n",
            "This may cause the debugger to stop working correctly.\n",
            "If this is needed, please check: \n",
            "http://pydev.blogspot.com/2007/06/why-cant-pydev-debugger-work-with.html\n",
            "to see how to restore the debug tracing back correctly.\n",
            "Call Location:\n",
            "  File \"/usr/local/lib/python3.11/dist-packages/memory_profiler.py\", line 850, in disable\n",
            "    sys.settrace(self._original_trace_function)\n",
            "\n"
          ]
        }
      ],
      "source": [
        "!pip install memory_profiler\n",
        "from memory_profiler import profile\n",
        "\n",
        "@profile\n",
        "def create_large_list():\n",
        "    big_list = [i * 2 for i in range(1000000)]\n",
        "    return big_list\n",
        "\n",
        "if __name__ == \"__main__\":\n",
        "    create_large_list()"
      ]
    },
    {
      "cell_type": "code",
      "execution_count": null,
      "metadata": {
        "colab": {
          "base_uri": "https://localhost:8080/"
        },
        "id": "6EMCcoQPu17E",
        "outputId": "c279a300-4ea5-4baf-aa74-0796545a478d"
      },
      "outputs": [
        {
          "name": "stdout",
          "output_type": "stream",
          "text": [
            "/bin/bash: line 1: memory_profiler: command not found\n"
          ]
        }
      ],
      "source": [
        "!memory_profiler memory_test.py"
      ]
    },
    {
      "cell_type": "markdown",
      "metadata": {
        "id": "EyRESBWS8BTT"
      },
      "source": [
        "**17.Write a Python program to create and write a list of numbers to a file, one number per line?**"
      ]
    },
    {
      "cell_type": "code",
      "execution_count": null,
      "metadata": {
        "colab": {
          "base_uri": "https://localhost:8080/"
        },
        "id": "LKPQj0Ijw-jX",
        "outputId": "a20b52e8-b350-495a-9d44-03afb12824ed"
      },
      "outputs": [
        {
          "name": "stdout",
          "output_type": "stream",
          "text": [
            "Numbers written to 'numbers.txt' successfully.\n"
          ]
        }
      ],
      "source": [
        "numbers = [10, 20, 30, 40, 50]\n",
        "\n",
        "with open(\"numbers.txt\", \"w\") as file:\n",
        "    for number in numbers:\n",
        "        file.write(str(number) + \"\\n\")\n",
        "\n",
        "print(\"Numbers written to 'numbers.txt' successfully.\")\n"
      ]
    },
    {
      "cell_type": "code",
      "execution_count": null,
      "metadata": {
        "colab": {
          "base_uri": "https://localhost:8080/"
        },
        "id": "AroRWvLVx0am",
        "outputId": "2b1cf7fd-5b38-4eb0-f8be-88f8f97c635f"
      },
      "outputs": [
        {
          "name": "stdout",
          "output_type": "stream",
          "text": [
            "10\n",
            "20\n",
            "30\n",
            "40\n",
            "50\n",
            "\n"
          ]
        }
      ],
      "source": [
        "file= open(\"numbers.txt\",\"r\")\n",
        "print(file.read())\n",
        "file.close()"
      ]
    },
    {
      "cell_type": "markdown",
      "metadata": {
        "id": "NTjmY9KAwkZy"
      },
      "source": [
        "**18.How would you implement a basic logging setup that logs to a file with rotation after 1MB?**\n"
      ]
    },
    {
      "cell_type": "code",
      "execution_count": 51,
      "metadata": {
        "colab": {
          "base_uri": "https://localhost:8080/"
        },
        "id": "P7_7o0bxwPUL",
        "outputId": "08ba2180-2fc2-436d-82cf-cf7574aabd62"
      },
      "outputs": [
        {
          "output_type": "stream",
          "name": "stderr",
          "text": [
            "INFO:MyLogger:This is log entry number 0\n",
            "INFO:MyLogger:This is log entry number 1\n",
            "INFO:MyLogger:This is log entry number 2\n",
            "INFO:MyLogger:This is log entry number 3\n",
            "INFO:MyLogger:This is log entry number 4\n",
            "INFO:MyLogger:This is log entry number 5\n",
            "INFO:MyLogger:This is log entry number 6\n",
            "INFO:MyLogger:This is log entry number 7\n",
            "INFO:MyLogger:This is log entry number 8\n",
            "INFO:MyLogger:This is log entry number 9\n"
          ]
        }
      ],
      "source": [
        "import logging\n",
        "from logging.handlers import RotatingFileHandler\n",
        "\n",
        "handler = RotatingFileHandler(\n",
        "    \"my_app.log\",\n",
        "    maxBytes=1 * 1024 * 1024,\n",
        "    backupCount=3\n",
        ")\n",
        "\n",
        "formatter = logging.Formatter('%(asctime)s - %(levelname)s - %(message)s')\n",
        "handler.setFormatter(formatter)\n",
        "\n",
        "logger = logging.getLogger(\"MyLogger\")\n",
        "logger.setLevel(logging.INFO)\n",
        "logger.addHandler(handler)\n",
        "\n",
        "\n",
        "for i in range(10):\n",
        "    logger.info(f\"This is log entry number {i}\")\n"
      ]
    },
    {
      "cell_type": "markdown",
      "metadata": {
        "id": "yXB_J4uQ8RZg"
      },
      "source": [
        ":**19.Write a program that handles both IndexError and KeyError using a try-except block?**\n"
      ]
    },
    {
      "cell_type": "code",
      "source": [
        "def handle_errors():\n",
        "    l = [1, 2, 3]\n",
        "    d= {'a': 10, 'b': 20}\n",
        "\n",
        "    try:\n",
        "\n",
        "        print(\"Accessing index 5 of list:\", l[5])\n",
        "\n",
        "        print(\"Accessing key 'z' in dictionary:\", d['z'])\n",
        "\n",
        "    except IndexError:\n",
        "        print(\"IndexError: Tried to access an invalid list index.\")\n",
        "\n",
        "    except KeyError:\n",
        "        print(\"KeyError: Tried to access a non-existent dictionary key.\")\n",
        "\n",
        "handle_errors()\n"
      ],
      "metadata": {
        "colab": {
          "base_uri": "https://localhost:8080/"
        },
        "id": "GcwpF3w_Ht-i",
        "outputId": "5fab7dc9-7954-4315-bfe3-943667cf2517"
      },
      "execution_count": 52,
      "outputs": [
        {
          "output_type": "stream",
          "name": "stdout",
          "text": [
            "IndexError: Tried to access an invalid list index.\n"
          ]
        }
      ]
    },
    {
      "cell_type": "markdown",
      "metadata": {
        "id": "M60JHtxi8bZE"
      },
      "source": [
        "**20.How would you open a file and read its contents using a context manager in Python?**"
      ]
    },
    {
      "cell_type": "code",
      "source": [
        "with open(\"pw.txt\", \"r\") as file:\n",
        "    contents = file.read()\n",
        "    print(contents)"
      ],
      "metadata": {
        "colab": {
          "base_uri": "https://localhost:8080/"
        },
        "id": "h06tyTJoJFwj",
        "outputId": "ab367e42-42f6-45a0-922d-ad1bbc30eaf5"
      },
      "execution_count": 56,
      "outputs": [
        {
          "output_type": "stream",
          "name": "stdout",
          "text": [
            "This is a test file. This is a running file.\n"
          ]
        }
      ]
    },
    {
      "cell_type": "markdown",
      "metadata": {
        "id": "yNjs888P8lW1"
      },
      "source": [
        "**21.Write a Python program that reads a file and prints the number of occurrences of a specific word?**"
      ]
    },
    {
      "cell_type": "code",
      "source": [
        "def count_word(filename, target_word):\n",
        "    try:\n",
        "        with open(filename, 'r') as file:\n",
        "            content = file.read()\n",
        "            words = content.lower().split()\n",
        "\n",
        "            count = words.count(target_word.lower())\n",
        "            print(f\"The word '{target_word}' occurs {count} times in the file.\")\n",
        "    except FileNotFoundError:\n",
        "        print(f\"Error: The file '{filename}' was not found.\")\n",
        "    except Exception as e:\n",
        "        print(f\"An error occurred: {e}\")\n",
        "\n",
        "\n",
        "filename = \"pw.txt\"\n",
        "target_word =\"This\"\n",
        "count_word(filename, target_word)"
      ],
      "metadata": {
        "colab": {
          "base_uri": "https://localhost:8080/"
        },
        "id": "gT9jJHhmJf3X",
        "outputId": "f50fa74c-98dd-4ec6-b369-b789b8bff0ed"
      },
      "execution_count": 58,
      "outputs": [
        {
          "output_type": "stream",
          "name": "stdout",
          "text": [
            "The word 'This' occurs 2 times in the file.\n"
          ]
        }
      ]
    },
    {
      "cell_type": "markdown",
      "metadata": {
        "id": "mxerGWtq8tGD"
      },
      "source": [
        "**22.How can you check if a file is empty before attempting to read its contents?**"
      ]
    },
    {
      "cell_type": "code",
      "source": [
        "import os\n",
        "\n",
        "filename = \"example.txt\"\n",
        "\n",
        "if os.path.getsize(filename) == 0:\n",
        "    print(\"The file is empty.\")\n",
        "else:\n",
        "    with open(filename, \"r\") as file:\n",
        "        contents = file.read()\n",
        "        print(contents)\n"
      ],
      "metadata": {
        "colab": {
          "base_uri": "https://localhost:8080/"
        },
        "id": "E5VBjZg5KIxy",
        "outputId": "17ff3220-c175-44ea-dba4-44169d334586"
      },
      "execution_count": 59,
      "outputs": [
        {
          "output_type": "stream",
          "name": "stdout",
          "text": [
            "The file is empty.\n"
          ]
        }
      ]
    },
    {
      "cell_type": "markdown",
      "metadata": {
        "id": "k3jB0-lG81bz"
      },
      "source": [
        "**23.Write a Python program that writes to a log file when an error occurs during file handling.**"
      ]
    },
    {
      "cell_type": "code",
      "source": [
        "import logging\n",
        "\n",
        "logging.basicConfig(\n",
        "    filename='py3.txt',\n",
        "    level=logging.ERROR,\n",
        "    format='%(asctime)s - %(levelname)s - %(message)s'\n",
        ")\n",
        "\n",
        "def read_file(filename):\n",
        "    try:\n",
        "        with open(filename, 'r') as file:\n",
        "            contents = file.read()\n",
        "            print(contents)\n",
        "    except Exception as e:\n",
        "        logging.error(f\"Error while reading file '{filename}': {e}\")\n",
        "        print(\"An error occurred. Check 'error_log.txt' for details.\")\n",
        "read_file(\"py3.txt\")\n"
      ],
      "metadata": {
        "colab": {
          "base_uri": "https://localhost:8080/"
        },
        "id": "NJGyfzF9KXHG",
        "outputId": "4937dc0b-1085-49c3-cd86-fb41efb5f6ff"
      },
      "execution_count": 60,
      "outputs": [
        {
          "output_type": "stream",
          "name": "stderr",
          "text": [
            "ERROR:root:Error while reading file 'py3.txt': [Errno 2] No such file or directory: 'py3.txt'\n"
          ]
        },
        {
          "output_type": "stream",
          "name": "stdout",
          "text": [
            "An error occurred. Check 'error_log.txt' for details.\n"
          ]
        }
      ]
    },
    {
      "cell_type": "code",
      "source": [],
      "metadata": {
        "id": "uXHbtqE8LBNp"
      },
      "execution_count": null,
      "outputs": []
    },
    {
      "cell_type": "code",
      "source": [],
      "metadata": {
        "id": "-1qg31jLLTv3"
      },
      "execution_count": null,
      "outputs": []
    }
  ],
  "metadata": {
    "colab": {
      "provenance": []
    },
    "kernelspec": {
      "display_name": "Python 3",
      "name": "python3"
    },
    "language_info": {
      "name": "python"
    }
  },
  "nbformat": 4,
  "nbformat_minor": 0
}